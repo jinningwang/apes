{
 "cells": [
  {
   "cell_type": "code",
   "execution_count": 1,
   "metadata": {},
   "outputs": [],
   "source": [
    "import pandas\n",
    "import os\n",
    "import glob\n",
    "import datetime\n",
    "from collections import OrderedDict\n",
    "\n",
    "import magic"
   ]
  },
  {
   "cell_type": "code",
   "execution_count": 3,
   "metadata": {},
   "outputs": [],
   "source": [
    "import apes\n",
    "from apes.core.basedata import BaseData, SourceData, CSVSourceData\n"
   ]
  },
  {
   "cell_type": "code",
   "execution_count": 4,
   "metadata": {},
   "outputs": [],
   "source": [
    "file_name = 'sourcedata/sample.csv'\n",
    "tagl = ['gdp', '2018', '2017', '2013', 'poverty']\n"
   ]
  },
  {
   "cell_type": "markdown",
   "metadata": {},
   "source": [
    "### BaseData"
   ]
  },
  {
   "cell_type": "code",
   "execution_count": 5,
   "metadata": {},
   "outputs": [],
   "source": [
    "based = BaseData(file_name,\n",
    "                 name='sample',\n",
    "                 info='Sample of CAGDP9', tag=tagl)\n"
   ]
  },
  {
   "cell_type": "code",
   "execution_count": 10,
   "metadata": {},
   "outputs": [
    {
     "data": {
      "text/plain": [
       "'95367.43 MB'"
      ]
     },
     "execution_count": 10,
     "metadata": {},
     "output_type": "execute_result"
    }
   ],
   "source": [
    "from apes.core.basedata import file_size_format\n",
    "file_size_format(99999999999, force_unit='MB')"
   ]
  },
  {
   "cell_type": "code",
   "execution_count": 13,
   "metadata": {},
   "outputs": [
    {
     "data": {
      "text/plain": [
       "0.0182421875"
      ]
     },
     "execution_count": 13,
     "metadata": {},
     "output_type": "execute_result"
    }
   ],
   "source": [
    "# size check\n",
    "bs = based.attr.size\n",
    "\n",
    "unit_dict = OrderedDict([\n",
    "    ('Bytes', 1),\n",
    "    ('KB', 1024),\n",
    "    ('MB', 1024 ** 2),\n",
    "    ('GB', 1024 ** 3),\n",
    "])\n",
    "\n",
    "def file_size_normalize(size):\n",
    "    \"\"\"\n",
    "    Normalize file size with units in MB\n",
    "    \n",
    "    Parameters\n",
    "    ----------\n",
    "    size: str\n",
    "        File size with units split by one space, e.g. \"28.96 MB\"\n",
    "    \"\"\"\n",
    "    size_val, size_unit = size.split(' ')\n",
    "    size_val = float(size_val)\n",
    "    size_out = size_val * unit_dict[size_unit] / unit_dict['MB']\n",
    "    return size_out\n",
    "\n",
    "file_size_normalize(bs)"
   ]
  },
  {
   "cell_type": "code",
   "execution_count": 14,
   "metadata": {},
   "outputs": [
    {
     "data": {
      "text/plain": [
       "'18.68 KB'"
      ]
     },
     "execution_count": 14,
     "metadata": {},
     "output_type": "execute_result"
    }
   ],
   "source": [
    "based.attr.size"
   ]
  },
  {
   "cell_type": "code",
   "execution_count": null,
   "metadata": {},
   "outputs": [],
   "source": [
    "based.attr.type"
   ]
  },
  {
   "cell_type": "code",
   "execution_count": null,
   "metadata": {},
   "outputs": [],
   "source": [
    "based.tag"
   ]
  },
  {
   "cell_type": "code",
   "execution_count": null,
   "metadata": {},
   "outputs": [],
   "source": [
    "based.attr"
   ]
  },
  {
   "cell_type": "markdown",
   "metadata": {},
   "source": [
    "### SourceData"
   ]
  },
  {
   "cell_type": "code",
   "execution_count": null,
   "metadata": {},
   "outputs": [],
   "source": [
    "sourced = SourceData(file_name,\n",
    "                     name='sample',\n",
    "                     info='Sample of CAGDP9', tag=tagl,\n",
    "                     url='sample_url', doi='sample_doi',\n",
    "                     lic='sample_lic')\n"
   ]
  },
  {
   "cell_type": "code",
   "execution_count": null,
   "metadata": {},
   "outputs": [],
   "source": [
    "sourced"
   ]
  },
  {
   "cell_type": "code",
   "execution_count": null,
   "metadata": {},
   "outputs": [],
   "source": [
    "sourced.tag"
   ]
  },
  {
   "cell_type": "markdown",
   "metadata": {},
   "source": [
    "### Split data"
   ]
  },
  {
   "cell_type": "code",
   "execution_count": null,
   "metadata": {},
   "outputs": [],
   "source": [
    "sfile_name = 'sourcedata/sample_split'\n",
    "baseds = BaseData(sfile_name,\n",
    "                  name='sample',\n",
    "                  info='Sample of CAGDP9', tag=tagl)\n"
   ]
  },
  {
   "cell_type": "code",
   "execution_count": null,
   "metadata": {},
   "outputs": [],
   "source": [
    "baseds"
   ]
  },
  {
   "cell_type": "markdown",
   "metadata": {},
   "source": [
    "### CSV Data"
   ]
  },
  {
   "cell_type": "code",
   "execution_count": null,
   "metadata": {},
   "outputs": [],
   "source": [
    "sfile_name = 'sourcedata/sample_split'\n",
    "tagl = ['gdp', '2018', '2017', '2013', 'poverty']\n",
    "csvsdata = CSVSourceData(sfile_name,\n",
    "                         name='sample',\n",
    "                         info='Sample of CAGDP9', tag=tagl)\n"
   ]
  },
  {
   "cell_type": "code",
   "execution_count": null,
   "metadata": {},
   "outputs": [],
   "source": [
    "csvsdata.as_df()"
   ]
  },
  {
   "cell_type": "code",
   "execution_count": null,
   "metadata": {},
   "outputs": [],
   "source": [
    "csvsdata.head()"
   ]
  },
  {
   "cell_type": "code",
   "execution_count": null,
   "metadata": {},
   "outputs": [],
   "source": [
    "file_name = 'sourcedata/sample.csv'\n",
    "tagl = ['gdp', '2018', '2017', '2013', 'poverty']\n",
    "\n",
    "csvdata = CSVSourceData(file_name,\n",
    "                        name='sample',\n",
    "                        info='Sample of CAGDP9', tag=tagl,\n",
    "                        url='sample_url', doi='sample_doi',\n",
    "                        lic='sample_lic')\n"
   ]
  },
  {
   "cell_type": "code",
   "execution_count": null,
   "metadata": {},
   "outputs": [],
   "source": [
    "csvdata"
   ]
  },
  {
   "cell_type": "code",
   "execution_count": null,
   "metadata": {},
   "outputs": [],
   "source": [
    "csvdata.as_df()"
   ]
  }
 ],
 "metadata": {
  "kernelspec": {
   "display_name": "Python 3.9.13 ('apes')",
   "language": "python",
   "name": "python3"
  },
  "language_info": {
   "codemirror_mode": {
    "name": "ipython",
    "version": 3
   },
   "file_extension": ".py",
   "mimetype": "text/x-python",
   "name": "python",
   "nbconvert_exporter": "python",
   "pygments_lexer": "ipython3",
   "version": "3.9.13"
  },
  "orig_nbformat": 4,
  "vscode": {
   "interpreter": {
    "hash": "85e64dccfb444ad09b28e894a7a8d81f440e789dd52d0e105ab4cb9380196dca"
   }
  }
 },
 "nbformat": 4,
 "nbformat_minor": 2
}
